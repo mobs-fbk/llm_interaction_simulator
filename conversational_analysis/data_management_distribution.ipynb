{
 "cells": [
  {
   "cell_type": "code",
   "execution_count": null,
   "id": "5733336f199d6e3b",
   "metadata": {
    "scrolled": true
   },
   "outputs": [],
   "source": [
    "%reset"
   ]
  },
  {
   "cell_type": "code",
   "execution_count": null,
   "id": "38985e3b",
   "metadata": {},
   "outputs": [],
   "source": [
    "!pip install pymongo"
   ]
  },
  {
   "cell_type": "code",
   "execution_count": null,
   "id": "initial_id",
   "metadata": {},
   "outputs": [],
   "source": [
    "from pymongo.mongo_client import MongoClient\n",
    "from pymongo.server_api import ServerApi\n",
    "uri = (\"YOUR_URL\")\n",
    "\n",
    "# Create a new client and connect to the server\n",
    "client = MongoClient(uri, server_api=ServerApi('1'))\n",
    "# Send a ping to confirm a successful connection\n",
    "try:\n",
    "    client.admin.command('ping')\n",
    "    print(\"Pinged your deployment. You successfully connected to MongoDB!\")\n",
    "except Exception as e:\n",
    "    print(e)"
   ]
  },
  {
   "cell_type": "code",
   "execution_count": null,
   "id": "74dc8a8faf9a17dd",
   "metadata": {},
   "outputs": [],
   "source": [
    "from experiments_class import Experiments, DatabaseExperiments, Conversation, Message\n",
    "from transformers import pipeline\n",
    "\n",
    "db = client['final_experiments']\n",
    "conversations = db['conversations']\n",
    "messages = db['messages']\n",
    "experiments = db['experiments']\n",
    "\n",
    "mess_dict = {}\n",
    "\n",
    "for mess in messages.find():\n",
    "    mess_dict[mess['_id']] = Message(mess)\n",
    "\n",
    "toxicity_model = pipeline(model='tomh/toxigen_roberta', tokenizer='tomh/toxigen_roberta', batch_size=32, device=0, truncation='longest_first')\n",
    "\n",
    "\n",
    "keys = []\n",
    "content = []\n",
    "    \n",
    "for k in mess_dict.keys():\n",
    "    keys.append(k)\n",
    "    content.append(mess_dict[k].content)\n",
    "\n",
    "out = toxicity_model(content)\n",
    "\n",
    "for idx in range(len(out)):\n",
    "  if out[idx]['label'] == 'LABEL_0':\n",
    "      mess_dict[keys[idx]].toxicity_score = 1.0 - out[idx]['score']\n",
    "  else:\n",
    "      mess_dict[keys[idx]].toxicity_score = out[idx]['score']    \n",
    "      \n",
    "conv_dict = {}\n",
    "\n",
    "for conv in conversations.find():\n",
    "    conv_dict[conv['_id']] = Conversation(conv, mess_dict)\n",
    "\n",
    "exp_list = []\n",
    "\n",
    "for exp in experiments.find():\n",
    "    exp_list.append(Experiments(exp, conv_dict))\n",
    "    \n",
    "db_exp = DatabaseExperiments(exp_list)"
   ]
  },
  {
   "cell_type": "code",
   "execution_count": null,
   "id": "34114c1a",
   "metadata": {},
   "outputs": [],
   "source": [
    "print(len(mess_dict.keys()))"
   ]
  },
  {
   "cell_type": "code",
   "execution_count": null,
   "id": "7ea5f720",
   "metadata": {},
   "outputs": [],
   "source": [
    "print(len(conv_dict.keys()))"
   ]
  },
  {
   "cell_type": "code",
   "execution_count": null,
   "id": "8aa57498f56aa6b3",
   "metadata": {},
   "outputs": [],
   "source": [
    "models = [\"mistral:latest\",\n",
    "          \"llama3:latest\",\n",
    "          \"command-r:latest\",\n",
    "          \"mixtral:latest\",\n",
    "          \"orca2:latest\"]\n",
    "\n",
    "goal = [\"Escape\",\n",
    "        \"Yard Time\"]\n",
    "\n",
    "personality_prisoner = [\"Good Prisoner\",\n",
    "                        \"Bad Prisoner\"]\n",
    "\n",
    "personality_guard = [\"Good Guard\",\n",
    "                        \"Bad Guard\"]\n",
    "\n",
    "neutral =  \"Blank Personalities\"\n",
    "\n",
    "sections = ['Communication rules', 'Environment', 'Research oversight', 'Risks']"
   ]
  },
  {
   "cell_type": "code",
   "execution_count": null,
   "id": "e2b5bce0899db759",
   "metadata": {},
   "outputs": [],
   "source": [
    "print(str(models[3]))"
   ]
  },
  {
   "cell_type": "code",
   "execution_count": null,
   "id": "4aacab3e41af210f",
   "metadata": {},
   "outputs": [],
   "source": [
    "sample_conv = db_exp.filter_conversations(llm=models[2], shared_sections=[sections[0], sections[1], sections[3]], goal=goal[0], personality_prisoner=personality_prisoner[1], personality_guard=personality_guard[1])\n"
   ]
  },
  {
   "cell_type": "code",
   "execution_count": null,
   "id": "8bc7444be100dc8e",
   "metadata": {},
   "outputs": [],
   "source": [
    "print(len(db_exp))"
   ]
  },
  {
   "cell_type": "code",
   "execution_count": null,
   "id": "e1316db104f308c8",
   "metadata": {},
   "outputs": [],
   "source": [
    "print(len(sample_conv))"
   ]
  },
  {
   "cell_type": "code",
   "execution_count": null,
   "id": "ad291d983df4e3cc",
   "metadata": {},
   "outputs": [],
   "source": [
    "print(sample_conv[14].print_conversation())"
   ]
  },
  {
   "cell_type": "markdown",
   "id": "fbdf0b625bf5f02a",
   "metadata": {},
   "source": [
    "# ANALYSIS"
   ]
  },
  {
   "cell_type": "code",
   "execution_count": null,
   "id": "76d246d11297843",
   "metadata": {},
   "outputs": [],
   "source": [
    "conv = sample_conv[6]\n",
    "\n",
    "conv.print_conversation()"
   ]
  },
  {
   "cell_type": "code",
   "execution_count": null,
   "id": "755c5d6a1a8b272e",
   "metadata": {},
   "outputs": [],
   "source": [
    "def analyse_comments(comments, model):\n",
    "  \n",
    "  out = toxicity_model(comments)\n",
    "  tox_score = list()\n",
    "\n",
    "  for idx in range(len(sent)):\n",
    "    if out[idx]['label'] == 'LABEL_0':\n",
    "      tox_score.append(1.0 - out[idx]['score'])\n",
    "    else:\n",
    "      tox_score.append(out[idx]['score'])\n",
    "\n",
    "  return(tox_score)\n",
    "\n",
    "def analyse_conversation(conversation):\n",
    "  all_message = []\n",
    "  pris_message = [] \n",
    "  guard_message = []\n",
    "  for mess in conversation.messages:\n",
    "    all_message.append(mess.toxicity_score)\n",
    "    if mess.role == \"Prisoner\":\n",
    "      all_message.append(mess.toxicity_score)\n",
    "      pris_message.append(mess.toxicity_score)\n",
    "    else:\n",
    "      if mess.role == \"Guard\":\n",
    "        all_message.append(mess.toxicity_score)\n",
    "        gurad_message.append(mess.toxicity_score)\n",
    "  return all_message, pris_message_guard_message\n",
    "  "
   ]
  },
  {
   "cell_type": "code",
   "execution_count": null,
   "id": "00851703",
   "metadata": {},
   "outputs": [],
   "source": [
    "import pickle\n",
    "\n",
    "with open('database_exp.pkl', 'wb') as f:\n",
    "    pickle.dump(db_exp, f)"
   ]
  },
  {
   "cell_type": "code",
   "execution_count": null,
   "id": "48ba1c6d",
   "metadata": {},
   "outputs": [],
   "source": []
  },
  {
   "cell_type": "code",
   "execution_count": null,
   "id": "c546856c",
   "metadata": {},
   "outputs": [],
   "source": []
  }
 ],
 "metadata": {
  "kernelspec": {
   "display_name": "Python 3 (ipykernel)",
   "language": "python",
   "name": "python3"
  },
  "language_info": {
   "codemirror_mode": {
    "name": "ipython",
    "version": 3
   },
   "file_extension": ".py",
   "mimetype": "text/x-python",
   "name": "python",
   "nbconvert_exporter": "python",
   "pygments_lexer": "ipython3",
   "version": "3.10.4"
  }
 },
 "nbformat": 4,
 "nbformat_minor": 5
}
