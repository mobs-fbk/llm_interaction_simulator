{
 "cells": [
  {
   "cell_type": "code",
   "execution_count": null,
   "outputs": [],
   "source": [
    "%reset"
   ],
   "metadata": {
    "collapsed": false
   },
   "id": "df08ed9ff16517ac"
  },
  {
   "cell_type": "code",
   "execution_count": null,
   "outputs": [],
   "source": [
    "import pickle\n",
    "\n",
    "#open file\n",
    "with open('database_exp.pkl', 'rb') as f:\n",
    "    db_exp = pickle.load(f)"
   ],
   "metadata": {
    "collapsed": false
   },
   "id": "2c193ed1fa0250b"
  },
  {
   "cell_type": "code",
   "execution_count": null,
   "outputs": [],
   "source": [
    "def analyse_conversation(conversation):\n",
    "    all_message = []\n",
    "    pris_message = []\n",
    "    guard_message = []\n",
    "    for mess in conversation.messages:\n",
    "        all_message.append(mess.toxicity_score)\n",
    "        if mess.role == \"Prisoner\":\n",
    "            all_message.append(mess.toxicity_score)\n",
    "            pris_message.append(mess.toxicity_score)\n",
    "        else:\n",
    "            if mess.role == \"Guard\":\n",
    "                all_message.append(mess.toxicity_score)\n",
    "                guard_message.append(mess.toxicity_score)\n",
    "    return all_message, pris_message, guard_message"
   ],
   "metadata": {
    "collapsed": false
   },
   "id": "initial_id"
  },
  {
   "cell_type": "code",
   "execution_count": null,
   "outputs": [],
   "source": [
    "models = [\"mistral:latest\",\n",
    "          \"llama3:latest\",\n",
    "          \"command-r:latest\", \n",
    "          \"mixtral:latest\",\n",
    "          \"orca2:latest\"]\n",
    "\n",
    "goal = [\"Escape\",\n",
    "        \"Yard Time\"]\n",
    "\n",
    "personality_prisoner = [\"Good Prisoner\",\n",
    "                        \"Bad Prisoner\"]\n",
    "\n",
    "personality_guard = [\"Good Guard\",\n",
    "                     \"Bad Guard\"]\n",
    "\n",
    "neutral =  \"Blank Personalities\"\n",
    "\n",
    "sections = ['Communication rules', 'Environment', 'Research oversight', 'Risks']"
   ],
   "metadata": {
    "collapsed": false
   },
   "id": "25ff3e8a2012eee5"
  },
  {
   "cell_type": "code",
   "execution_count": null,
   "outputs": [],
   "source": [
    "sample_conv = db_exp.filter_conversations(llm=models[1], shared_sections=[sections[0], sections[1]], goal=goal[0], personality_prisoner=personality_prisoner[0], personality_guard=personality_guard[0])"
   ],
   "metadata": {
    "collapsed": false
   },
   "id": "f6dc179037854328"
  },
  {
   "cell_type": "code",
   "execution_count": null,
   "outputs": [],
   "source": [
    "len(sample_conv)"
   ],
   "metadata": {
    "collapsed": false
   },
   "id": "7881357f9a3e3b8b"
  },
  {
   "cell_type": "code",
   "execution_count": null,
   "outputs": [],
   "source": [
    "for c in sample_conv:\n",
    "    all, pris, guard = analyse_conversation(c)\n",
    "    print(\"Conversation\")\n",
    "    print(sum(all)/len(all))\n",
    "    print(sum(pris)/len(pris))\n",
    "    print(sum(guard)/len(guard))\n",
    "    print(\"\\n\")"
   ],
   "metadata": {
    "collapsed": false
   },
   "id": "c69291569e3c3028"
  },
  {
   "cell_type": "code",
   "execution_count": null,
   "outputs": [],
   "source": [
    "for c in sample_conv:\n",
    "    all, pris, guard = analyse_conversation(c)\n",
    "    print(\"Conversation\")\n",
    "    print(max(all))\n",
    "    print(max(pris))\n",
    "    print(max(guard))\n",
    "    print(\"\\n\")"
   ],
   "metadata": {
    "collapsed": false
   },
   "id": "e21fc754850f4d23"
  },
  {
   "cell_type": "code",
   "execution_count": null,
   "outputs": [],
   "source": [
    "#import for plotting\n",
    "import matplotlib.pyplot as plt\n",
    "\n",
    "\n",
    "for c in sample_conv:\n",
    "    all, pris, guard = analyse_conversation(c)\n",
    "    print(\"Conversation\")\n",
    "    #plot all, pris, guard\n",
    "    print(c.print_conversation())\n",
    "    plt.plot(pris, label=\"Prisoner\")\n",
    "    plt.plot(guard, label=\"Guard\")\n",
    "    plt.legend()\n",
    "    plt.show()\n",
    "    \n",
    "    \n",
    "    "
   ],
   "metadata": {
    "collapsed": false
   },
   "id": "34cf3fd5339723bf"
  },
  {
   "cell_type": "code",
   "execution_count": null,
   "outputs": [],
   "source": [],
   "metadata": {
    "collapsed": false
   },
   "id": "409f4a6f5f43e6e3"
  }
 ],
 "metadata": {
  "kernelspec": {
   "display_name": "Python 3",
   "language": "python",
   "name": "python3"
  },
  "language_info": {
   "codemirror_mode": {
    "name": "ipython",
    "version": 2
   },
   "file_extension": ".py",
   "mimetype": "text/x-python",
   "name": "python",
   "nbconvert_exporter": "python",
   "pygments_lexer": "ipython2",
   "version": "2.7.6"
  }
 },
 "nbformat": 4,
 "nbformat_minor": 5
}
