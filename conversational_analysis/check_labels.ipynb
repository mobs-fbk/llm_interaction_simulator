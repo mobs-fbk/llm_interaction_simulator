{
 "cells": [
  {
   "cell_type": "code",
   "execution_count": null,
   "outputs": [],
   "source": [
    "%reset"
   ],
   "metadata": {
    "collapsed": false
   },
   "id": "df08ed9ff16517ac"
  },
  {
   "cell_type": "code",
   "execution_count": null,
   "outputs": [],
   "source": [
    "import pickle\n",
    "\n",
    "#open file\n",
    "with open('database_exp.pkl', 'rb') as f:\n",
    "    db_exp = pickle.load(f)"
   ],
   "metadata": {
    "collapsed": false
   },
   "id": "2c193ed1fa0250b"
  },
  {
   "cell_type": "code",
   "execution_count": null,
   "outputs": [],
   "source": [
    "def analyse_conversation(conversation):\n",
    "    all_message = []\n",
    "    pris_message = []\n",
    "    guard_message = []\n",
    "    for mess in conversation.messages:\n",
    "        all_message.append(mess.toxicity_score)\n",
    "        if mess.role == \"Prisoner\":\n",
    "            all_message.append(mess.toxicity_score)\n",
    "            pris_message.append(mess.toxicity_score)\n",
    "        else:\n",
    "            if mess.role == \"Guard\":\n",
    "                all_message.append(mess.toxicity_score)\n",
    "                guard_message.append(mess.toxicity_score)\n",
    "    return all_message, pris_message, guard_message"
   ],
   "metadata": {
    "collapsed": false
   },
   "id": "initial_id"
  },
  {
   "cell_type": "code",
   "execution_count": null,
   "outputs": [],
   "source": [
    "models = [\"mistral:latest\",\n",
    "          \"llama3:latest\",\n",
    "          \"command-r:latest\", \n",
    "          \"mixtral:latest\",\n",
    "          \"orca2:latest\"]\n",
    "\n",
    "\n",
    "\n",
    "goal = [\"Escape\",\n",
    "        \"Yard Time\"]\n",
    "\n",
    "personality_prisoner = [\"Good Prisoner\",\n",
    "                        \"Bad Prisoner\"]\n",
    "\n",
    "personality_guard = [\"Good Guard\",\n",
    "                     \"Bad Guard\"]\n",
    "\n",
    "neutral =  \"Blank Personalities\"\n",
    "\n",
    "sections = ['Communication rules', 'Environment', 'oversight', 'Risks']\n",
    "\n"
   ],
   "metadata": {
    "collapsed": false
   },
   "id": "25ff3e8a2012eee5"
  },
  {
   "cell_type": "code",
   "execution_count": null,
   "outputs": [],
   "source": [
    "c = 0\n",
    "\n",
    "\n",
    "for m in models:\n",
    "    for g in goal:\n",
    "        sample_conv = db_exp.filter_conversations(llm=m, shared_sections=[sections[0], sections[1], sections[3]],goal=g, personality_prisoner=neutral, personality_guard=neutral)\n",
    "        print(len(sample_conv))\n",
    "        c += len(sample_conv)            \n",
    "        \n",
    "        sample_conv = db_exp.filter_conversations(llm=m, shared_sections=[sections[0], sections[1], sections[2], sections[3]],goal=g, personality_prisoner=neutral, personality_guard=neutral)\n",
    "        print(len(sample_conv))\n",
    "        c += len(sample_conv)\n",
    "\n",
    "        sample_conv = db_exp.filter_conversations(llm=m, shared_sections=[sections[0], sections[1], sections[2]],goal=g, personality_prisoner=neutral, personality_guard=neutral)\n",
    "        print(len(sample_conv))\n",
    "        c += len(sample_conv)\n",
    "\n",
    "        sample_conv = db_exp.filter_conversations(llm=m, shared_sections=[sections[0], sections[1]],goal=g, personality_prisoner=neutral, personality_guard=neutral)\n",
    "        print(len(sample_conv))\n",
    "        c += len(sample_conv)\n",
    "\n",
    "print(\"\\n\")        \n",
    "print(c)"
   ],
   "metadata": {
    "collapsed": false
   },
   "id": "f6dc179037854328"
  },
  {
   "cell_type": "code",
   "execution_count": null,
   "outputs": [],
   "source": [
    "c=0\n",
    "\n",
    "for m in models:\n",
    "    for g in goal:\n",
    "        sample_conv = db_exp.filter_conversations(llm=m, shared_sections=[sections[0], sections[1], sections[3]],goal=g, personality_prisoner=personality_prisoner[1], personality_guard=personality_guard[0])\n",
    "        print(len(sample_conv))\n",
    "        c += len(sample_conv)\n",
    "\n",
    "        sample_conv = db_exp.filter_conversations(llm=m, shared_sections=[sections[0], sections[1], sections[2], sections[3]],goal=g,personality_prisoner=personality_prisoner[1], personality_guard=personality_guard[0])\n",
    "        print(len(sample_conv))\n",
    "        c += len(sample_conv)\n",
    "\n",
    "        sample_conv = db_exp.filter_conversations(llm=m, shared_sections=[sections[0], sections[1], sections[2]],goal=g, personality_prisoner=personality_prisoner[1], personality_guard=personality_guard[0])\n",
    "        print(len(sample_conv))\n",
    "        c += len(sample_conv)\n",
    "\n",
    "        sample_conv = db_exp.filter_conversations(llm=m, shared_sections=[sections[0], sections[1]],goal=g, personality_prisoner=personality_prisoner[1], personality_guard=personality_guard[0])\n",
    "        print(len(sample_conv))\n",
    "        c += len(sample_conv)\n",
    "\n",
    "print(\"\\n\")\n",
    "print(c)\n"
   ],
   "metadata": {
    "collapsed": false
   },
   "id": "15504f3e0b6b9c7b"
  },
  {
   "cell_type": "code",
   "execution_count": null,
   "outputs": [],
   "source": [
    "c = 0\n",
    "\n",
    "for m in models:\n",
    "    for g in goal:\n",
    "        sample_conv = db_exp.filter_conversations(llm=m, shared_sections=[sections[0], sections[1], sections[3]],goal=g, personality_prisoner=personality_prisoner[0], personality_guard=personality_guard[0])\n",
    "        print(len(sample_conv))\n",
    "        c += len(sample_conv)\n",
    "\n",
    "        sample_conv = db_exp.filter_conversations(llm=m, shared_sections=[sections[0], sections[1], sections[2], sections[3]],goal=g,personality_prisoner=personality_prisoner[0], personality_guard=personality_guard[0])\n",
    "        print(len(sample_conv))\n",
    "        c += len(sample_conv)\n",
    "\n",
    "        sample_conv = db_exp.filter_conversations(llm=m, shared_sections=[sections[0], sections[1], sections[2]],goal=g, personality_prisoner=personality_prisoner[0], personality_guard=personality_guard[0])\n",
    "        print(len(sample_conv))\n",
    "        c += len(sample_conv)\n",
    "\n",
    "        sample_conv = db_exp.filter_conversations(llm=m, shared_sections=[sections[0], sections[1]],goal=g, personality_prisoner=personality_prisoner[0], personality_guard=personality_guard[0])\n",
    "        print(len(sample_conv))\n",
    "        c += len(sample_conv)\n",
    "print(\"\\n\")\n",
    "print(c)"
   ],
   "metadata": {
    "collapsed": false
   },
   "id": "bbcdb00d76bedc3c"
  },
  {
   "cell_type": "code",
   "execution_count": null,
   "outputs": [],
   "source": [
    "c = 0\n",
    "\n",
    "\n",
    "for m in models:\n",
    "    for g in goal:\n",
    "        sample_conv = db_exp.filter_conversations(llm=m, shared_sections=[sections[0], sections[1], sections[3]],goal=g, personality_prisoner=personality_prisoner[0], personality_guard=personality_guard[1])\n",
    "        print(len(sample_conv))\n",
    "        c += len(sample_conv)\n",
    "\n",
    "        sample_conv = db_exp.filter_conversations(llm=m, shared_sections=[sections[0], sections[1], sections[2], sections[3]],goal=g,personality_prisoner=personality_prisoner[0], personality_guard=personality_guard[1])\n",
    "        print(len(sample_conv))\n",
    "        c += len(sample_conv)\n",
    "\n",
    "        sample_conv = db_exp.filter_conversations(llm=m, shared_sections=[sections[0], sections[1], sections[2]],goal=g, personality_prisoner=personality_prisoner[0], personality_guard=personality_guard[1])\n",
    "        print(len(sample_conv))\n",
    "        c += len(sample_conv)\n",
    "\n",
    "        sample_conv = db_exp.filter_conversations(llm=m, shared_sections=[sections[0], sections[1]],goal=g, personality_prisoner=personality_prisoner[0], personality_guard=personality_guard[1])\n",
    "        print(len(sample_conv))\n",
    "        c += len(sample_conv)\n",
    "print(\"\\n\")\n",
    "print(c)"
   ],
   "metadata": {
    "collapsed": false
   },
   "id": "13d847186316a2b9"
  },
  {
   "cell_type": "code",
   "execution_count": null,
   "outputs": [],
   "source": [
    "c = 0\n",
    "\n",
    "\n",
    "for m in models:\n",
    "    for g in goal:\n",
    "        sample_conv = db_exp.filter_conversations(llm=m, shared_sections=[sections[0], sections[1], sections[3]],goal=g, personality_prisoner=personality_prisoner[1], personality_guard=personality_guard[1])\n",
    "        print(len(sample_conv))\n",
    "        c += len(sample_conv)\n",
    "\n",
    "        sample_conv = db_exp.filter_conversations(llm=m, shared_sections=[sections[0], sections[1], sections[2], sections[3]],goal=g,personality_prisoner=personality_prisoner[1], personality_guard=personality_guard[1])\n",
    "        print(len(sample_conv))\n",
    "        c += len(sample_conv)\n",
    "\n",
    "        sample_conv = db_exp.filter_conversations(llm=m, shared_sections=[sections[0], sections[1], sections[2]],goal=g, personality_prisoner=personality_prisoner[1], personality_guard=personality_guard[1])\n",
    "        print(len(sample_conv))\n",
    "        c += len(sample_conv)\n",
    "\n",
    "        sample_conv = db_exp.filter_conversations(llm=m, shared_sections=[sections[0], sections[1]],goal=g, personality_prisoner=personality_prisoner[1], personality_guard=personality_guard[1])\n",
    "        print(len(sample_conv))\n",
    "        c += len(sample_conv)\n",
    "print(\"\\n\")\n",
    "print(c)"
   ],
   "metadata": {
    "collapsed": false
   },
   "id": "faecbf88cc7be5f0"
  },
  {
   "cell_type": "code",
   "execution_count": null,
   "outputs": [],
   "source": [
    "print(len(db_exp))"
   ],
   "metadata": {
    "collapsed": false
   },
   "id": "5fa6ddbaa6fc2cd5"
  },
  {
   "cell_type": "code",
   "execution_count": null,
   "outputs": [],
   "source": [
    "note = []\n",
    "count = dict()\n",
    "\n",
    "for d in db_exp.experiments:\n",
    "    if d.note not in note:\n",
    "        note.append(d.note)\n",
    "        count[d.note] = len(d.conversations)\n",
    "    else:\n",
    "        count[d.note] += len(d.conversations)\n",
    "\n"
   ],
   "metadata": {
    "collapsed": false
   },
   "id": "c37e78c53b80f307"
  },
  {
   "cell_type": "code",
   "execution_count": null,
   "outputs": [],
   "source": [
    "note.sort()\n",
    "\n",
    "for n in note:\n",
    "    print(n)\n",
    "    print(count[n])\n",
    "\n",
    "print(len(note))"
   ],
   "metadata": {
    "collapsed": false
   },
   "id": "1e5372334fbf2601"
  },
  {
   "cell_type": "code",
   "execution_count": null,
   "outputs": [],
   "source": [],
   "metadata": {
    "collapsed": false
   },
   "id": "a8eac92f7fc742f8"
  }
 ],
 "metadata": {
  "kernelspec": {
   "display_name": "Python 3",
   "language": "python",
   "name": "python3"
  },
  "language_info": {
   "codemirror_mode": {
    "name": "ipython",
    "version": 2
   },
   "file_extension": ".py",
   "mimetype": "text/x-python",
   "name": "python",
   "nbconvert_exporter": "python",
   "pygments_lexer": "ipython2",
   "version": "2.7.6"
  }
 },
 "nbformat": 4,
 "nbformat_minor": 5
}
